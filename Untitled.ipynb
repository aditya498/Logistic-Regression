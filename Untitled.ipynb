{
 "cells": [
  {
   "cell_type": "code",
   "execution_count": 102,
   "metadata": {},
   "outputs": [],
   "source": [
    "from sklearn.linear_model import LogisticRegression\n",
    "from sklearn import preprocessing\n",
    "import numpy as np\n",
    "import pandas as pd"
   ]
  },
  {
   "cell_type": "code",
   "execution_count": 103,
   "metadata": {},
   "outputs": [],
   "source": [
    "# data=np.loadtxt('/Users/adityamittal/Downloads/0000000000002429_training_titanic_x_y_train.csv',delimiter=',')"
   ]
  },
  {
   "cell_type": "code",
   "execution_count": 165,
   "metadata": {},
   "outputs": [],
   "source": [
    "def DatatoNumpy(df):\n",
    "    df.drop(['Name','SibSp','Parch','Ticket','Fare','Cabin','Embarked'],axis=1,inplace=True)\n",
    "    age_mean=df['Age'].mean()\n",
    "    df.Age.fillna(age_mean,inplace=True)\n",
    "    df.dropna(inplace=True)\n",
    "    for i in df.index:\n",
    "        if df['Sex'][i]=='male':\n",
    "            df['Sex'][i]=1\n",
    "        else:\n",
    "            df['Sex'][i]=0\n",
    "    arr=df.to_numpy()\n",
    "    return arr"
   ]
  },
  {
   "cell_type": "code",
   "execution_count": 234,
   "metadata": {},
   "outputs": [],
   "source": [
    "def addFeatures(x):\n",
    "    c=x*x\n",
    "    p4=x[:,0]**4\n",
    "    a3=x[:,2]**3\n",
    "    p4=p4.reshape(-1,1)\n",
    "    a3=a3.reshape(-1,1)\n",
    "#     print(c.shape)\n",
    "#     print(x.shape)\n",
    "    x=np.concatenate((x,c,p4,a3),1)\n",
    "#     x=np.concatenate((x,p4),1)\n",
    "\n",
    "\n",
    "#     print(x.shape)\n",
    "    return x "
   ]
  },
  {
   "cell_type": "code",
   "execution_count": 235,
   "metadata": {},
   "outputs": [
    {
     "name": "stderr",
     "output_type": "stream",
     "text": [
      "/Users/adityamittal/opt/anaconda3/lib/python3.7/site-packages/ipykernel_launcher.py:10: SettingWithCopyWarning: \n",
      "A value is trying to be set on a copy of a slice from a DataFrame\n",
      "\n",
      "See the caveats in the documentation: https://pandas.pydata.org/pandas-docs/stable/user_guide/indexing.html#returning-a-view-versus-a-copy\n",
      "  # Remove the CWD from sys.path while we load stuff.\n",
      "/Users/adityamittal/opt/anaconda3/lib/python3.7/site-packages/ipykernel_launcher.py:8: SettingWithCopyWarning: \n",
      "A value is trying to be set on a copy of a slice from a DataFrame\n",
      "\n",
      "See the caveats in the documentation: https://pandas.pydata.org/pandas-docs/stable/user_guide/indexing.html#returning-a-view-versus-a-copy\n",
      "  \n"
     ]
    },
    {
     "data": {
      "text/plain": [
       "(668, 8)"
      ]
     },
     "execution_count": 235,
     "metadata": {},
     "output_type": "execute_result"
    }
   ],
   "source": [
    "df=pd.read_csv('/Users/adityamittal/Downloads/0000000000002429_training_titanic_x_y_train.csv')\n",
    "train_data=DatatoNumpy(df)\n",
    "x=train_data[:,:-1]\n",
    "y=train_data[:,-1]\n",
    "y=y.astype('int')\n",
    "# y=y.reshape(-1,1)\n",
    "\n",
    "\n",
    "x=addFeatures(x)\n",
    "scaler=preprocessing.StandardScaler()\n",
    "scaler.fit(x)\n",
    "x=scaler.transform(x)\n",
    "x.shape"
   ]
  },
  {
   "cell_type": "code",
   "execution_count": 236,
   "metadata": {},
   "outputs": [
    {
     "data": {
      "text/plain": [
       "LogisticRegression(C=1, class_weight=None, dual=False, fit_intercept=True,\n",
       "                   intercept_scaling=1, l1_ratio=None, max_iter=10000,\n",
       "                   multi_class='auto', n_jobs=None, penalty='l2',\n",
       "                   random_state=None, solver='lbfgs', tol=0.0001, verbose=0,\n",
       "                   warm_start=False)"
      ]
     },
     "execution_count": 236,
     "metadata": {},
     "output_type": "execute_result"
    }
   ],
   "source": [
    "alg=LogisticRegression(C=1,max_iter=10000)\n",
    "alg.fit(x,y)"
   ]
  },
  {
   "cell_type": "code",
   "execution_count": 237,
   "metadata": {},
   "outputs": [
    {
     "data": {
      "text/plain": [
       "0.8053892215568862"
      ]
     },
     "execution_count": 237,
     "metadata": {},
     "output_type": "execute_result"
    }
   ],
   "source": [
    "alg.score(x,y)"
   ]
  },
  {
   "cell_type": "code",
   "execution_count": 238,
   "metadata": {},
   "outputs": [
    {
     "name": "stderr",
     "output_type": "stream",
     "text": [
      "/Users/adityamittal/opt/anaconda3/lib/python3.7/site-packages/ipykernel_launcher.py:8: SettingWithCopyWarning: \n",
      "A value is trying to be set on a copy of a slice from a DataFrame\n",
      "\n",
      "See the caveats in the documentation: https://pandas.pydata.org/pandas-docs/stable/user_guide/indexing.html#returning-a-view-versus-a-copy\n",
      "  \n",
      "/Users/adityamittal/opt/anaconda3/lib/python3.7/site-packages/ipykernel_launcher.py:10: SettingWithCopyWarning: \n",
      "A value is trying to be set on a copy of a slice from a DataFrame\n",
      "\n",
      "See the caveats in the documentation: https://pandas.pydata.org/pandas-docs/stable/user_guide/indexing.html#returning-a-view-versus-a-copy\n",
      "  # Remove the CWD from sys.path while we load stuff.\n"
     ]
    }
   ],
   "source": [
    "df=pd.read_csv('/Users/adityamittal/Downloads/0000000000002429_test_titanic_x_test.csv')\n",
    "x_test=DatatoNumpy(df)\n",
    "x_test=addFeatures(x_test)\n",
    "x_test=scaler.transform(x_test)"
   ]
  },
  {
   "cell_type": "code",
   "execution_count": 239,
   "metadata": {},
   "outputs": [],
   "source": [
    "np.savetxt('predict.csv',alg.predict(x_test),delimiter=',',fmt='% 1d')"
   ]
  },
  {
   "cell_type": "code",
   "execution_count": null,
   "metadata": {},
   "outputs": [],
   "source": []
  }
 ],
 "metadata": {
  "kernelspec": {
   "display_name": "Python 3",
   "language": "python",
   "name": "python3"
  },
  "language_info": {
   "codemirror_mode": {
    "name": "ipython",
    "version": 3
   },
   "file_extension": ".py",
   "mimetype": "text/x-python",
   "name": "python",
   "nbconvert_exporter": "python",
   "pygments_lexer": "ipython3",
   "version": "3.7.6"
  }
 },
 "nbformat": 4,
 "nbformat_minor": 4
}
